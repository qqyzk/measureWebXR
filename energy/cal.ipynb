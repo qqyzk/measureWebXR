{
 "cells": [
  {
   "cell_type": "code",
   "execution_count": 34,
   "metadata": {},
   "outputs": [
    {
     "name": "stdout",
     "output_type": "stream",
     "text": [
      "5 558\n",
      "-0.02,-0.01\n"
     ]
    }
   ],
   "source": [
    "# calculate the power consumption of the load and render phase\n",
    "import time\n",
    "overallStartTime =1709561323442.3\n",
    "renderStartTime =1709561323998.8\n",
    "fileName = './results/pixel/three-0-8.txt'\n",
    "endTime = renderStartTime + 60*1000\n",
    "usb_current, usb_voltage, batt_current, batt_voltage = [], [], [], []\n",
    "loadSumPower = 0\n",
    "renderSumPower = 0\n",
    "loadCnt=0\n",
    "renderCnt=0\n",
    "begin = False\n",
    "\n",
    "with open(fileName) as f:\n",
    "    for line in f:\n",
    "        t,u_c, u_v, b_c, b_v = line.strip('\\n').split(',')\n",
    "        if u_c=='':\n",
    "            u_c='0'\n",
    "        if u_v=='':\n",
    "            u_v='5000000'\n",
    "        year, month, day, hour, minute, second, ns = t.split('-')\n",
    "        dt_seconds = time.mktime((int(year), int(month), int(day), int(hour), int(minute), int(second), -1, -1, -1))\n",
    "        ns_seconds = float(ns) / 1e6\n",
    "        cur_time = dt_seconds*1000 + ns_seconds\n",
    "        if cur_time < overallStartTime:\n",
    "            continue\n",
    "        if cur_time > endTime:\n",
    "            break\n",
    "        if cur_time < renderStartTime:\n",
    "            loadSumPower += int(u_c) * int(u_v) + int(b_c) * int(b_v)\n",
    "            loadCnt+=1\n",
    "        else:\n",
    "            renderSumPower += int(u_c) * int(u_v) + int(b_c) * int(b_v)\n",
    "            renderCnt+=1\n",
    "       \n",
    "    loadPower = loadSumPower / 1e12\n",
    "    renderPower = renderSumPower / 1e12\n",
    "    print(loadCnt,renderCnt)\n",
    "    print(\"{:.2f},{:.2f}\".format(loadPower/loadCnt,renderPower/renderCnt))"
   ]
  },
  {
   "cell_type": "code",
   "execution_count": null,
   "metadata": {},
   "outputs": [],
   "source": [
    "usb_current, usb_voltage, batt_current, batt_voltage = [], [], [], []\n",
    "sum_power = 0\n",
    "cnt=0\n",
    "with open('blank4.txt') as f:\n",
    "    for line in f:\n",
    "        time,u_c, u_v, b_c, b_v = line.strip('\\n').split(',')\n",
    "        if u_c=='':\n",
    "            u_c='0'\n",
    "        sum_power += int(u_c) * int(u_v) + int(b_c) * int(b_v)\n",
    "        cnt+=1\n",
    "    power = sum_power / 1e12\n",
    "    print(power/cnt)"
   ]
  },
  {
   "cell_type": "code",
   "execution_count": 35,
   "metadata": {},
   "outputs": [
    {
     "name": "stdout",
     "output_type": "stream",
     "text": [
      "[-0.005798512213939656]\n"
     ]
    }
   ],
   "source": [
    "import numpy as np\n",
    "usb_current, usb_voltage, batt_current, batt_voltage = [], [], [], []\n",
    "with open('./results/try2.txt') as f:\n",
    "    pre_pid = None\n",
    "    for line in f:\n",
    "        pid=123\n",
    "        time, u_c, u_v, b_c, b_v = line.strip('\\n').split(',')\n",
    "        # if u_c=='':\n",
    "        #     u_c='0'\n",
    "        # if u_v=='':\n",
    "        #     u_v='0'\n",
    "        #     print(line)\n",
    "        # if b_c=='':\n",
    "        #     b_c='0'\n",
    "        # if b_v=='':\n",
    "        #     b_v='0'\n",
    "        if pre_pid != pid:\n",
    "            pre_pid = pid\n",
    "            # print(f'[{pre_pid}],[{pid}]')\n",
    "            usb_current.append([])\n",
    "            usb_voltage.append([])\n",
    "            batt_current.append([])\n",
    "            batt_voltage.append([])\n",
    "        usb_current[-1].append(int(u_c))\n",
    "        usb_voltage[-1].append(int(u_v))\n",
    "        batt_current[-1].append(int(b_c))\n",
    "        batt_voltage[-1].append(int(b_v))\n",
    "    powers = []\n",
    "    for i in range(len(usb_current)):\n",
    "        power = (np.mean(usb_current[i]) * np.mean(usb_voltage[i]) + np.mean(batt_current[i]) * np.mean(batt_voltage[i])) / 1e12\n",
    "        powers.append(power)\n",
    "    print(powers)\n",
    "    "
   ]
  },
  {
   "cell_type": "code",
   "execution_count": 16,
   "metadata": {},
   "outputs": [
    {
     "name": "stdout",
     "output_type": "stream",
     "text": [
      "504\n",
      "-0.0014679672663789683\n"
     ]
    }
   ],
   "source": [
    "import time\n",
    "startTime = 1708952292827.5999\n",
    "endTime = startTime + 60*1000\n",
    "usb_current, usb_voltage, batt_current, batt_voltage = [], [], [], []\n",
    "sum_power = 0\n",
    "cnt=0\n",
    "begin = False\n",
    "\n",
    "with open('blank4.txt') as f:\n",
    "    for line in f:\n",
    "        t,u_c, u_v, b_c, b_v = line.strip('\\n').split(',')\n",
    "        year, month, day, hour, minute, second, ns = t.split('-')\n",
    "        dt_seconds = time.mktime((int(year), int(month), int(day), int(hour), int(minute), int(second), -1, -1, -1))\n",
    "        ns_seconds = float(ns) / 1e6\n",
    "        cur_time = dt_seconds*1000 + ns_seconds\n",
    "        if cur_time < startTime:\n",
    "            continue\n",
    "        if cur_time > endTime:\n",
    "            break\n",
    "       \n",
    "        if u_c=='':\n",
    "            u_c='0'\n",
    "        sum_power += int(u_c) * int(u_v) + int(b_c) * int(b_v)\n",
    "        cnt+=1\n",
    "    power = sum_power / 1e12\n",
    "    print(cnt)\n",
    "    print(power/cnt)"
   ]
  },
  {
   "cell_type": "code",
   "execution_count": 24,
   "metadata": {},
   "outputs": [
    {
     "name": "stdout",
     "output_type": "stream",
     "text": [
      "1709558873971.4814\n"
     ]
    }
   ],
   "source": [
    "t='2024-03-04-21-27-53-971481433'\n",
    "year, month, day, hour, minute, second, ns = t.split('-')\n",
    "dt_seconds = time.mktime((int(year), int(month), int(day), int(hour), int(minute), int(second), -1, -1, -1))\n",
    "ns_seconds = float(ns) / 1e6\n",
    "cur_time = dt_seconds*1000 + ns_seconds\n",
    "print(cur_time)"
   ]
  },
  {
   "cell_type": "code",
   "execution_count": 8,
   "metadata": {},
   "outputs": [
    {
     "name": "stdout",
     "output_type": "stream",
     "text": [
      "1709024804625.1228\n"
     ]
    }
   ],
   "source": []
  },
  {
   "cell_type": "code",
   "execution_count": null,
   "metadata": {},
   "outputs": [],
   "source": [
    "1709025567417.9\n",
    "1709025567876.2998"
   ]
  }
 ],
 "metadata": {
  "kernelspec": {
   "display_name": "Python 3",
   "language": "python",
   "name": "python3"
  },
  "language_info": {
   "codemirror_mode": {
    "name": "ipython",
    "version": 3
   },
   "file_extension": ".py",
   "mimetype": "text/x-python",
   "name": "python",
   "nbconvert_exporter": "python",
   "pygments_lexer": "ipython3",
   "version": "3.9.6"
  }
 },
 "nbformat": 4,
 "nbformat_minor": 2
}
