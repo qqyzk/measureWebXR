{
 "cells": [
  {
   "cell_type": "code",
   "execution_count": 33,
   "metadata": {},
   "outputs": [
    {
     "name": "stdout",
     "output_type": "stream",
     "text": [
      "15.822132256619518\n"
     ]
    }
   ],
   "source": [
    "usb_current, usb_voltage, batt_current, batt_voltage = [], [], [], []\n",
    "sum_power = 0\n",
    "cnt=0\n",
    "with open('try.txt') as f:\n",
    "    for line in f:\n",
    "        u_c, u_v, b_c, b_v = line.strip('\\n').split('\\t')\n",
    "        if u_c=='':\n",
    "            u_c='0'\n",
    "        sum_power += int(u_c) * int(u_v) + int(b_c) * int(b_v)\n",
    "        cnt+=1\n",
    "    power = sum_power / 1e12\n",
    "    print(power/cnt)"
   ]
  },
  {
   "cell_type": "code",
   "execution_count": 34,
   "metadata": {},
   "outputs": [
    {
     "name": "stdout",
     "output_type": "stream",
     "text": [
      "[15.821635875364965]\n"
     ]
    }
   ],
   "source": [
    "import numpy as np\n",
    "usb_current, usb_voltage, batt_current, batt_voltage = [], [], [], []\n",
    "with open('try.txt') as f:\n",
    "    pre_pid = None\n",
    "    for line in f:\n",
    "        pid=123\n",
    "        u_c, u_v, b_c, b_v = line.strip('\\n').split('\\t')\n",
    "        # if u_c=='':\n",
    "        #     u_c='0'\n",
    "        # if u_v=='':\n",
    "        #     u_v='0'\n",
    "        #     print(line)\n",
    "        # if b_c=='':\n",
    "        #     b_c='0'\n",
    "        # if b_v=='':\n",
    "        #     b_v='0'\n",
    "        if pre_pid != pid:\n",
    "            pre_pid = pid\n",
    "            # print(f'[{pre_pid}],[{pid}]')\n",
    "            usb_current.append([])\n",
    "            usb_voltage.append([])\n",
    "            batt_current.append([])\n",
    "            batt_voltage.append([])\n",
    "        usb_current[-1].append(int(u_c))\n",
    "        usb_voltage[-1].append(int(u_v))\n",
    "        batt_current[-1].append(int(b_c))\n",
    "        batt_voltage[-1].append(int(b_v))\n",
    "    powers = []\n",
    "    for i in range(len(usb_current)):\n",
    "        power = (np.mean(usb_current[i]) * np.mean(usb_voltage[i]) + np.mean(batt_current[i]) * np.mean(batt_voltage[i])) / 1e12\n",
    "        powers.append(power)\n",
    "    print(powers)\n",
    "    "
   ]
  },
  {
   "cell_type": "code",
   "execution_count": null,
   "metadata": {},
   "outputs": [],
   "source": []
  }
 ],
 "metadata": {
  "kernelspec": {
   "display_name": "Python 3",
   "language": "python",
   "name": "python3"
  },
  "language_info": {
   "codemirror_mode": {
    "name": "ipython",
    "version": 3
   },
   "file_extension": ".py",
   "mimetype": "text/x-python",
   "name": "python",
   "nbconvert_exporter": "python",
   "pygments_lexer": "ipython3",
   "version": "3.9.6"
  }
 },
 "nbformat": 4,
 "nbformat_minor": 2
}
