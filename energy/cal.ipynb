{
 "cells": [
  {
   "cell_type": "code",
   "execution_count": 2,
   "metadata": {},
   "outputs": [
    {
     "name": "stdout",
     "output_type": "stream",
     "text": [
      "-0.0019402769397351975\n"
     ]
    }
   ],
   "source": [
    "usb_current, usb_voltage, batt_current, batt_voltage = [], [], [], []\n",
    "sum_power = 0\n",
    "cnt=0\n",
    "with open('blank4.txt') as f:\n",
    "    for line in f:\n",
    "        time,u_c, u_v, b_c, b_v = line.strip('\\n').split(',')\n",
    "        if u_c=='':\n",
    "            u_c='0'\n",
    "        sum_power += int(u_c) * int(u_v) + int(b_c) * int(b_v)\n",
    "        cnt+=1\n",
    "    power = sum_power / 1e12\n",
    "    print(power/cnt)"
   ]
  },
  {
   "cell_type": "code",
   "execution_count": 3,
   "metadata": {},
   "outputs": [
    {
     "name": "stdout",
     "output_type": "stream",
     "text": [
      "[-0.0019407925710598708]\n"
     ]
    }
   ],
   "source": [
    "import numpy as np\n",
    "usb_current, usb_voltage, batt_current, batt_voltage = [], [], [], []\n",
    "with open('blank4.txt') as f:\n",
    "    pre_pid = None\n",
    "    for line in f:\n",
    "        pid=123\n",
    "        time, u_c, u_v, b_c, b_v = line.strip('\\n').split(',')\n",
    "        # if u_c=='':\n",
    "        #     u_c='0'\n",
    "        # if u_v=='':\n",
    "        #     u_v='0'\n",
    "        #     print(line)\n",
    "        # if b_c=='':\n",
    "        #     b_c='0'\n",
    "        # if b_v=='':\n",
    "        #     b_v='0'\n",
    "        if pre_pid != pid:\n",
    "            pre_pid = pid\n",
    "            # print(f'[{pre_pid}],[{pid}]')\n",
    "            usb_current.append([])\n",
    "            usb_voltage.append([])\n",
    "            batt_current.append([])\n",
    "            batt_voltage.append([])\n",
    "        usb_current[-1].append(int(u_c))\n",
    "        usb_voltage[-1].append(int(u_v))\n",
    "        batt_current[-1].append(int(b_c))\n",
    "        batt_voltage[-1].append(int(b_v))\n",
    "    powers = []\n",
    "    for i in range(len(usb_current)):\n",
    "        power = (np.mean(usb_current[i]) * np.mean(usb_voltage[i]) + np.mean(batt_current[i]) * np.mean(batt_voltage[i])) / 1e12\n",
    "        powers.append(power)\n",
    "    print(powers)\n",
    "    "
   ]
  },
  {
   "cell_type": "code",
   "execution_count": 16,
   "metadata": {},
   "outputs": [
    {
     "name": "stdout",
     "output_type": "stream",
     "text": [
      "504\n",
      "-0.0014679672663789683\n"
     ]
    }
   ],
   "source": [
    "import time\n",
    "startTime = 1708952292827.5999\n",
    "endTime = startTime + 60*1000\n",
    "usb_current, usb_voltage, batt_current, batt_voltage = [], [], [], []\n",
    "sum_power = 0\n",
    "cnt=0\n",
    "begin = False\n",
    "\n",
    "with open('blank4.txt') as f:\n",
    "    for line in f:\n",
    "        t,u_c, u_v, b_c, b_v = line.strip('\\n').split(',')\n",
    "        year, month, day, hour, minute, second, ns = t.split('-')\n",
    "        dt_seconds = time.mktime((int(year), int(month), int(day), int(hour), int(minute), int(second), -1, -1, -1))\n",
    "        ns_seconds = float(ns) / 1e6\n",
    "        cur_time = dt_seconds*1000 + ns_seconds\n",
    "        if cur_time < startTime:\n",
    "            continue\n",
    "        if cur_time > endTime:\n",
    "            break\n",
    "       \n",
    "        if u_c=='':\n",
    "            u_c='0'\n",
    "        sum_power += int(u_c) * int(u_v) + int(b_c) * int(b_v)\n",
    "        cnt+=1\n",
    "    power = sum_power / 1e12\n",
    "    print(cnt)\n",
    "    print(power/cnt)"
   ]
  },
  {
   "cell_type": "code",
   "execution_count": null,
   "metadata": {},
   "outputs": [],
   "source": []
  }
 ],
 "metadata": {
  "kernelspec": {
   "display_name": "Python 3",
   "language": "python",
   "name": "python3"
  },
  "language_info": {
   "codemirror_mode": {
    "name": "ipython",
    "version": 3
   },
   "file_extension": ".py",
   "mimetype": "text/x-python",
   "name": "python",
   "nbconvert_exporter": "python",
   "pygments_lexer": "ipython3",
   "version": "3.9.6"
  }
 },
 "nbformat": 4,
 "nbformat_minor": 2
}
