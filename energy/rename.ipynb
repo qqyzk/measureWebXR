{
 "cells": [
  {
   "cell_type": "code",
   "execution_count": 1,
   "metadata": {},
   "outputs": [],
   "source": [
    "import os"
   ]
  },
  {
   "cell_type": "code",
   "execution_count": 2,
   "metadata": {},
   "outputs": [],
   "source": [
    "cubeNums = [8,64,512,4096,32768]\n",
    "textureNums =[0,1,2,4]"
   ]
  },
  {
   "cell_type": "code",
   "execution_count": 4,
   "metadata": {},
   "outputs": [],
   "source": [
    "for textureNum in textureNums:\n",
    "    for cubeNum in cubeNums:\n",
    "        perName = './results/pixel/trace-ar-'+str(textureNum)+'-'+str(cubeNum)\n",
    "        afterName = './results/pixel/trace-ar-three-'+str(textureNum)+'-'+str(cubeNum)\n",
    "        os.system('mv '+perName+' '+afterName)"
   ]
  }
 ],
 "metadata": {
  "kernelspec": {
   "display_name": "Python 3",
   "language": "python",
   "name": "python3"
  },
  "language_info": {
   "codemirror_mode": {
    "name": "ipython",
    "version": 3
   },
   "file_extension": ".py",
   "mimetype": "text/x-python",
   "name": "python",
   "nbconvert_exporter": "python",
   "pygments_lexer": "ipython3",
   "version": "3.9.6"
  }
 },
 "nbformat": 4,
 "nbformat_minor": 2
}
